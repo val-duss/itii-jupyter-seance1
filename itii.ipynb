{
 "cells": [
  {
   "cell_type": "markdown",
   "metadata": {
    "colab_type": "text",
    "id": "view-in-github"
   },
   "source": [
    "<a href=\"https://colab.research.google.com/github/BDafflon/itii-jupyter/blob/master/itii.ipynb\" target=\"_parent\"><img src=\"https://colab.research.google.com/assets/colab-badge.svg\" alt=\"Open In Colab\"/></a>"
   ]
  },
  {
   "cell_type": "markdown",
   "metadata": {
    "colab_type": "text",
    "id": "vYqbUr5Knqi8"
   },
   "source": [
    "#Python\n",
    "Dans cette introduction à Python pour la programmation scientifique, nous utiliserons Python comme langage et les bibliothèques NumPy et matplotlib pour le calcul scientifique et la visualisation.\n"
   ]
  },
  {
   "cell_type": "markdown",
   "metadata": {
    "colab_type": "text",
    "id": "lvO6L5D5phvE"
   },
   "source": [
    "\n",
    "#Découpage\n",
    "Séance 1\n",
    "* notion\n",
    "* l'environement jupyter\n",
    "* pip\n",
    "* importer/exporter un notebook\n",
    "\n",
    "Séance 2\n",
    "* Fonction\n",
    "* POO\n",
    "* Inputs/outup\n",
    "\n",
    "Séance 3\n",
    "* Numpy et Matplot\n",
    "* Array\n",
    "\n",
    "Séance 4\n",
    "* Math\n",
    "* Calcule de Zero\n",
    "* Calcule de dérivée\n",
    "\n",
    "Séance 5\n",
    "* Suites récurrentes\n",
    "* Suites définies par des sommes\n",
    "\n",
    "Séance 6 **Noté**\n",
    "* Méthode des rectangles\n",
    "* Méthode des trapèzes\n",
    "* Intégration par la méthode de Simpson\n",
    "\n",
    "Séance 7\n",
    "* calcul matricie\n",
    "* Typage des données\n",
    "* Parcours d’une matrice\n",
    "\n",
    "Séance 8 **Noté**\n",
    "* Fonction matricielles"
   ]
  },
  {
   "cell_type": "markdown",
   "metadata": {
    "colab_type": "text",
    "id": "tDtJNSCKp1tQ"
   },
   "source": [
    "#Séance 1 : Notion\n"
   ]
  },
  {
   "cell_type": "markdown",
   "metadata": {
    "colab_type": "text",
    "id": "K60-19ctqLjw"
   },
   "source": [
    "## JupyterLab\n",
    "Jupyter est une application web utilisée pour programmer dans plus de 40 langages de programmation, dont Python, Julia, Ruby, R, ou encore Scala2. Jupyter est une évolution du projet IPython. Jupyter permet de réaliser des calepins ou notebooks, c'est-à-dire des programmes contenant à la fois du texte en markdown et du code en Julia, Python, R... Ces Notebook sont utilisés en science des données pour explorer et analyser des données.\n",
    "\n",
    "Il existe plusieurs distribution de Jupyter :\n",
    "\n",
    "Online\n",
    "\n",
    "* Binder\n",
    "* Colaboratory\n",
    "* Azure Notebooks\n",
    "\n",
    "Windows\n",
    "\n",
    "* Jupyter Portable\n",
    "* Anaconda (Python distribution)\n",
    "\n",
    "Mac\n",
    "\n",
    "* Anaconda (Python distribution)\n",
    "\n",
    "Linux\n",
    "\n",
    "* Jupyter Lab\n",
    "* Anaconda (Python distribution)\n",
    "\n",
    "Le format de fichier produit est un **ipynb** compatible avec toutes ces plateformes. \n",
    "\n",
    "Vous trouverez plus d'information sur cet environement ici : https://programminghistorian.org/en/lessons/jupyter-notebooks"
   ]
  },
  {
   "cell_type": "markdown",
   "metadata": {
    "colab_type": "text",
    "id": "uVLdCsGUsEtQ"
   },
   "source": [
    "##PIP\n",
    "pip est un gestionnaire de paquets utilisé pour installer et gérer des paquets écrits en Python. De nombreux paquets peuvent être trouvés sur le dépôt Python Package Index (PyPI : https://pypi.org/)\n",
    "\n",
    "3 commandes sont indispensables\n",
    "* pip install nom-du-paquet\n",
    "* pip uninstall nom-du-paquet \n",
    "* pip install -r requirements.txt"
   ]
  },
  {
   "cell_type": "code",
   "execution_count": null,
   "metadata": {
    "colab": {},
    "colab_type": "code",
    "id": "K9HVQ80vs-6L"
   },
   "outputs": [],
   "source": [
    "#Exemple 1 : Installer Numpy et mathplotlob\n",
    "\n",
    "!pip install Numpy\n",
    "!pip install matplotlib"
   ]
  },
  {
   "cell_type": "markdown",
   "metadata": {
    "colab_type": "text",
    "id": "ze023qyBtXZy"
   },
   "source": [
    "Comme vous l'avez vu, chaque cellule python d'un notebook peut etre executée avec le raccourit clavier ctrl+entrer"
   ]
  },
  {
   "cell_type": "markdown",
   "metadata": {
    "colab_type": "text",
    "id": "tjx98y6atwgV"
   },
   "source": [
    "##Exercice 1 : importer un notebook.\n",
    "\n",
    "\n",
    "1.   Créer ou connectez vous a GitHub.com\n",
    "2.   Forker le projet https://github.com/BDafflon/itii-jupyter.git\n",
    "3.   Impoeter le notbook dans jupyter\n",
    "\n"
   ]
  },
  {
   "cell_type": "markdown",
   "metadata": {
    "colab_type": "text",
    "id": "hpJ5zhcAvVcM"
   },
   "source": [
    "##Notion (rapide) de python\n"
   ]
  },
  {
   "cell_type": "markdown",
   "metadata": {
    "colab_type": "text",
    "id": "QPPJezNZyTDl"
   },
   "source": [
    "### Variable\n",
    "\n",
    "Une variable est une zone de la mémoire de l'ordinateur dans laquelle une valeur est stockée. Aux yeux du programmeur, cette variable est définie par un nom, alors que pour l'ordinateur, il s'agit en fait d'une adresse, c'est-à-dire d'une zone particulière de la mémoire.\n",
    "\n",
    "En Python, la déclaration d'une variable et son initialisation (c'est-à-dire la première valeur que l'on va stocker dedans) se font en même temps. "
   ]
  },
  {
   "cell_type": "code",
   "execution_count": 18,
   "metadata": {
    "colab": {
     "base_uri": "https://localhost:8080/",
     "height": 35
    },
    "colab_type": "code",
    "id": "FnfCY2u4yVsS",
    "outputId": "4af892ce-a2d0-4b58-f818-11f85c085e07"
   },
   "outputs": [
    {
     "name": "stdout",
     "output_type": "stream",
     "text": [
      "3\n"
     ]
    }
   ],
   "source": [
    "x=3\n",
    "print(x)"
   ]
  },
  {
   "cell_type": "markdown",
   "metadata": {
    "colab_type": "text",
    "id": "UN0UE8ryysHU"
   },
   "source": [
    "Le nom des variables en Python peut être constitué de lettres minuscules (a à z), de lettres majuscules (A à Z), de nombres (0 à 9) ou du caractère souligné (_). Vous ne pouvez pas utiliser d'espace dans un nom de variable.\n",
    "\n",
    "Par ailleurs, un nom de variable ne doit pas débuter par un chiffre et il n'est pas recommandé de le faire débuter par le caractère _ (sauf cas très particuliers).\n",
    "\n",
    "De plus, il faut absolument éviter d'utiliser un mot « réservé » par Python comme nom de variable (par exemple : print, range, for, from, etc.).\n",
    "\n",
    "Enfin, Python est sensible à la casse, ce qui signifie que les variables TesT, test ou TEST sont différentes."
   ]
  },
  {
   "cell_type": "markdown",
   "metadata": {
    "colab_type": "text",
    "id": "eMLTVpiLwB0p"
   },
   "source": [
    "### Les operateurs"
   ]
  },
  {
   "cell_type": "code",
   "execution_count": 11,
   "metadata": {
    "colab": {
     "base_uri": "https://localhost:8080/",
     "height": 35
    },
    "colab_type": "code",
    "id": "kkb13C8ivllv",
    "outputId": "a3eec687-662a-4bdc-d5cc-561cfad6c16c"
   },
   "outputs": [
    {
     "data": {
      "text/plain": [
       "15"
      ]
     },
     "execution_count": 11,
     "metadata": {
      "tags": []
     },
     "output_type": "execute_result"
    }
   ],
   "source": [
    "3 * 5"
   ]
  },
  {
   "cell_type": "code",
   "execution_count": 12,
   "metadata": {
    "colab": {
     "base_uri": "https://localhost:8080/",
     "height": 35
    },
    "colab_type": "code",
    "id": "B5HuqPw6v3Wt",
    "outputId": "910ddac1-0b03-4722-f423-e11158cda84c"
   },
   "outputs": [
    {
     "data": {
      "text/plain": [
       "15"
      ]
     },
     "execution_count": 12,
     "metadata": {
      "tags": []
     },
     "output_type": "execute_result"
    }
   ],
   "source": [
    "#Il n'y a qu'une sortie standard par cellule\n",
    "2+4\n",
    "3*5"
   ]
  },
  {
   "cell_type": "markdown",
   "metadata": {
    "colab_type": "text",
    "id": "6kQHFBmFwK8d"
   },
   "source": [
    "on peut spécifier la sortie standard en utilisant la fonction *print()*"
   ]
  },
  {
   "cell_type": "code",
   "execution_count": 13,
   "metadata": {
    "colab": {
     "base_uri": "https://localhost:8080/",
     "height": 54
    },
    "colab_type": "code",
    "id": "viLsKAUCwSPD",
    "outputId": "e536abe5-e3c0-48b2-f684-4cdf740728c5"
   },
   "outputs": [
    {
     "name": "stdout",
     "output_type": "stream",
     "text": [
      "6\n",
      "15\n"
     ]
    }
   ],
   "source": [
    "print(2+4)\n",
    "print(3*5)"
   ]
  },
  {
   "cell_type": "markdown",
   "metadata": {
    "colab_type": "text",
    "id": "Uimbz2-1wfML"
   },
   "source": [
    "L’opérateur / ne donne pas les mêmes résultats suivant les versions de Python. En Python 2, il réalise par défaut une division euclidienne, aussi appelée division entière (c’est-à-dire une division dont le résultat est un entier). En Python 3, il réalise une division décimale standard comme sur une calculatrice. En Python 2.7, on peut obtenir le même comportement qu’en Python 3 grâce à l’instruction :\n",
    "\n",
    "> from __future__ import division.\n",
    "\n",
    "La division entiere est donnée par l'operateur::\n",
    "> //\n",
    "Exemple :\n"
   ]
  },
  {
   "cell_type": "code",
   "execution_count": 3,
   "metadata": {
    "colab": {
     "base_uri": "https://localhost:8080/",
     "height": 35
    },
    "colab_type": "code",
    "id": "vRIuW8sWwuFe",
    "outputId": "0b6f636d-f516-4866-c8e7-2dd4f1d4c1db"
   },
   "outputs": [
    {
     "data": {
      "text/plain": [
       "3"
      ]
     },
     "execution_count": 3,
     "metadata": {},
     "output_type": "execute_result"
    }
   ],
   "source": [
    "15 // 4"
   ]
  },
  {
   "cell_type": "markdown",
   "metadata": {
    "colab_type": "text",
    "id": "IISTj152xOqs"
   },
   "source": [
    "###La fonction range()\n",
    "\n",
    "La fonction *range()* génère des suites arithmétiques :"
   ]
  },
  {
   "cell_type": "code",
   "execution_count": 2,
   "metadata": {
    "colab": {
     "base_uri": "https://localhost:8080/",
     "height": 35
    },
    "colab_type": "code",
    "id": "hRuXakUexken",
    "outputId": "8554f9ce-2d22-4b55-d61b-3ca67a6bce7f"
   },
   "outputs": [
    {
     "data": {
      "text/plain": [
       "[0, 1, 2, 3, 4, 5, 6, 7, 8, 9]"
      ]
     },
     "execution_count": 2,
     "metadata": {},
     "output_type": "execute_result"
    }
   ],
   "source": [
    "list(range(10))"
   ]
  },
  {
   "cell_type": "markdown",
   "metadata": {
    "colab_type": "text",
    "id": "GYjRJpT3xu7E"
   },
   "source": [
    "Elle est utilisée dans les boucles et dans la creation de tableau et liste. Elle est comparable a la fonction *arange()* de numpy."
   ]
  },
  {
   "cell_type": "markdown",
   "metadata": {
    "colab_type": "text",
    "id": "8uR6cZDxzZRJ"
   },
   "source": [
    "### Les boucles\n",
    "\n",
    "La boucle for:\n",
    "> for **iterateur** in **liste**: \n",
    "\n",
    "La portée du *for* est faite par l'indentation :\n",
    "\n",
    "\n"
   ]
  },
  {
   "cell_type": "code",
   "execution_count": 4,
   "metadata": {
    "colab": {},
    "colab_type": "code",
    "id": "apRWMe3D0GKZ"
   },
   "outputs": [
    {
     "name": "stdout",
     "output_type": "stream",
     "text": [
      "0\n",
      "1\n",
      "2\n",
      "3\n",
      "4\n",
      "5\n",
      "6\n",
      "7\n",
      "8\n",
      "9\n"
     ]
    }
   ],
   "source": [
    "for i in range(10):\n",
    "  print(i)\n"
   ]
  },
  {
   "cell_type": "markdown",
   "metadata": {
    "colab_type": "text",
    "id": "lrI_aWJw0gUY"
   },
   "source": [
    "Une autre alternative à l'instruction for couramment utilisée en informatique est la boucle while. Le principe est simple. Une série d'instructions est exécutée tant qu'une condition est vraie. Par exemple :\n",
    "\n",
    "> while condition :"
   ]
  },
  {
   "cell_type": "code",
   "execution_count": null,
   "metadata": {
    "colab": {},
    "colab_type": "code",
    "id": "KvtyZuCH0jrO"
   },
   "outputs": [],
   "source": [
    "i=0\n",
    "while i<10:\n",
    "  print(i)\n",
    "  i=i+1"
   ]
  },
  {
   "cell_type": "markdown",
   "metadata": {
    "colab_type": "text",
    "id": "e7vl6nkP0xKa"
   },
   "source": [
    "##Exerices\n",
    "Ouvrir un nouveau notebook et l'enregistrer sur GitHub.\n",
    "###Ex 1: Cone\n",
    "Écrire un programme qui, à partir de la saisie d'un rayon et d'une hauteur, calcule le volume d'un cône droit.\n",
    "\n",
    "###Ex 2: Somme des cubes\n",
    "1. Pour un entier **n** fixé, programmer le calcul de la somme S<sub>n</sub>=1<sup>3</sup>+2<sup>3</sup>+3<sup>3</sup>+···+n<sup>3</sup>\n",
    "2. Définir un programme qui pour une valeur **n** calcul la somme Σ<sub>n</sub>=1+2+3+···+n.\n",
    "\n",
    "###Ex 3 : manipulation des variables :\n",
    "1. Combien y-a-t-il d’occurrences du chiffre1 dans les nombres de1 à 999? Par exemple le chiffre1 apparaît unefois dans 51 mais deux fois dans 131\n",
    "2. Écrire une fonction qui calcule l’écriture décimale d’un entier, sans recourir au log\n",
    "\n",
    "\n",
    "###Ex 4 : Aproximation de Pi\n",
    "Il est possible de calculer les premières décimales deπpar la méthode de Monte-Carlo, c’est à direavec l’aide du hasard.\n",
    "Soit la figure suivante :\n",
    "Si le carré rouge faite 1 de coté et le disque bleu 1 de rayon, comment pouvez vous determiner une approxiamtion de π ?\n",
    "\n",
    "![image.png](data:image/png;base64,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)\n"
   ]
  },
  {
   "cell_type": "code",
   "execution_count": 1,
   "metadata": {},
   "outputs": [
    {
     "name": "stdout",
     "output_type": "stream",
     "text": [
      "fin de la premiere seance\n"
     ]
    }
   ],
   "source": [
    "print(\"fin de la premiere seance\")"
   ]
  },
  {
   "cell_type": "code",
   "execution_count": 8,
   "metadata": {},
   "outputs": [
    {
     "name": "stdout",
     "output_type": "stream",
     "text": [
      "Rayon ?4\n",
      "Hauteur ?4\n",
      "100.48\n"
     ]
    }
   ],
   "source": [
    "rayon = int(input(\"Rayon ?\")) #rayon du cone\n",
    "hauteur = int(input(\"Hauteur ?\")) #hauteur du cone\n",
    "pi = 3.14\n",
    "\n",
    "#V = \\frac{1}{3} × π × r2 × h.\n",
    "volume = pi*rayon*2*hauteur #calcul du volume\n",
    "\n",
    "print(volume)\n"
   ]
  },
  {
   "cell_type": "code",
   "execution_count": 13,
   "metadata": {},
   "outputs": [
    {
     "name": "stdout",
     "output_type": "stream",
     "text": [
      "n?4\n",
      "Somme 1:100\n",
      "Somme 2:10\n"
     ]
    }
   ],
   "source": [
    "n = int(input(\"n?\"))\n",
    "somme = 0 #somme\n",
    "somme2 = 0\n",
    "i = 1 \n",
    "while i<=n:\n",
    "    somme = somme + pow(i,3)#ajout\n",
    "    somme2 = somme2 + i\n",
    "    i = i+1\n",
    "s = 'Somme 1:'+repr(somme) \n",
    "print(s) #affichage\n",
    "s = 'Somme 2:' + repr(somme2)\n",
    "print(s) #affichage\n"
   ]
  },
  {
   "cell_type": "code",
   "execution_count": 1,
   "metadata": {},
   "outputs": [
    {
     "name": "stdout",
     "output_type": "stream",
     "text": [
      "100\n",
      "2.0 x 10.0\n",
      "0.0 x 1.0\n",
      "0.09999999999999773 x 0.1\n",
      "0.009999999999997728 x 0.01\n",
      "0.0009999999999997173 x 0.001\n",
      "9.39542497621626e-16 x 0.0001\n",
      "9.999999996234523e-06 x 1e-05\n",
      "9.999999895969626e-07 x 1.0000000000000002e-06\n",
      "9.999998995708014e-08 x 1.0000000000000002e-07\n",
      "9.999990141370244e-09 x 1.0000000000000002e-08\n",
      "9.999859317169187e-10 x 1.0000000000000003e-09\n",
      "9.998834473722156e-11 x 1.0000000000000003e-10\n",
      "9.987881297601227e-12 x 1.0000000000000003e-11\n",
      "9.938479835970205e-13 x 1.0000000000000002e-12\n",
      "9.301490684415508e-14 x 1.0000000000000002e-13\n",
      "3.538923837741057e-15 x 1.0000000000000002e-14\n",
      "6.590610703770813e-16 x 1e-15\n",
      "5.107213592801074e-17 x 1.0000000000000001e-16\n",
      "1.0583039893489352e-18 x 1e-17\n",
      "5.830398934893514e-20 x 1e-18\n",
      "9.411019142845755e-20 x 1.0000000000000001e-19\n",
      "4.110191428457537e-21 x 1.0000000000000001e-20\n",
      "1.1019142845753636e-22 x 1.0000000000000001e-21\n",
      "2.6202991934471317e-23 x 1e-22\n",
      "1.1885376165524751e-24 x 1.0000000000000001e-23\n",
      "1.88537616552475e-25 x 1.0000000000000001e-24\n",
      "5.849537724117501e-26 x 1.0000000000000002e-25\n",
      "9.719065230423203e-27 x 1.0000000000000002e-26\n",
      "2.4876993204310324e-28 x 1.0000000000000002e-27\n",
      "1.769216084060657e-29 x 1.0000000000000002e-28\n",
      "6.54579811979927e-30 x 1.0000000000000002e-29\n",
      "2.031720385516223e-31 x 1.0000000000000003e-30\n",
      "6.602587411937435e-32 x 1.0000000000000003e-31\n",
      "9.943795770010349e-33 x 1.0000000000000003e-32\n",
      "7.3856188964687435e-34 x 1.0000000000000004e-33\n",
      "7.679990738543075e-37 x 1.0000000000000004e-34\n",
      "7.52584061059285e-37 x 1.0000000000000004e-35\n",
      "8.089196085625447e-37 x 1.0000000000000004e-36\n",
      "7.113343889882688e-38 x 1.0000000000000005e-37\n",
      "1.1334388988268428e-39 x 1.0000000000000005e-38\n",
      "7.692488987441842e-40 x 1.0000000000000004e-39\n",
      "1.4948171636361447e-41 x 1.0000000000000003e-40\n",
      "2.0974776509860218e-42 x 1.0000000000000004e-41\n",
      "9.382815444109724e-43 x 1.0000000000000004e-42\n",
      "5.73110407445605e-44 x 1.0000000000000003e-43\n",
      "2.2074184120763427e-45 x 1.0000000000000003e-44\n",
      "9.308170020695415e-46 x 1.0000000000000003e-45\n",
      "6.095271557102241e-47 x 1.0000000000000002e-46\n",
      "9.527155710223937e-49 x 1.0000000000000002e-47\n",
      "2.3646126868491967e-49 x 1.0000000000000003e-48\n",
      "5.269605773358547e-50 x 1.0000000000000003e-49\n",
      "1.2031237565149467e-51 x 1.0000000000000004e-50\n",
      "1.396754835267983e-52 x 1.0000000000000003e-51\n",
      "1.781539129677976e-53 x 1.0000000000000004e-52\n",
      "7.815391296779756e-54 x 1.0000000000000004e-53\n",
      "6.182930486080092e-55 x 1.0000000000000003e-54\n",
      "9.982330971122777e-56 x 1.0000000000000004e-55\n",
      "8.442271169329379e-57 x 1.0000000000000004e-56\n",
      "4.422711693293761e-58 x 1.0000000000000004e-57\n",
      "4.227116932937597e-59 x 1.0000000000000004e-58\n",
      "4.385563457952895e-60 x 1.0000000000000005e-59\n",
      "7.683166496375935e-61 x 1.0000000000000005e-60\n",
      "6.85358954934982e-63 x 1.0000000000000006e-61\n",
      "3.757552883670523e-63 x 1.0000000000000005e-62\n",
      "7.575528836705216e-64 x 1.0000000000000005e-63\n",
      "5.755288367052125e-65 x 1.0000000000000005e-64\n",
      "2.6536765761783047e-66 x 1.0000000000000006e-65\n",
      "1.833703830914682e-67 x 1.0000000000000005e-66\n",
      "7.494926415212526e-68 x 1.0000000000000004e-67\n",
      "1.8875131940228368e-69 x 1.0000000000000005e-68\n",
      "8.875131940228363e-70 x 1.0000000000000005e-69\n",
      "8.751319402283595e-71 x 1.0000000000000005e-70\n",
      "6.031733176182585e-72 x 1.0000000000000005e-71\n",
      "4.6861602558621333e-73 x 1.0000000000000005e-72\n",
      "6.861602558621315e-74 x 1.0000000000000005e-73\n",
      "1.955120201954815e-75 x 1.0000000000000005e-74\n",
      "1.318557223711073e-77 x 1.0000000000000006e-75\n",
      "7.913488428304945e-77 x 1.0000000000000005e-76\n",
      "3.679089789467872e-78 x 1.0000000000000005e-77\n",
      "1.5767213994813987e-79 x 1.0000000000000005e-78\n",
      "6.576228173467633e-80 x 1.0000000000000004e-79\n",
      "3.5097018537627332e-81 x 1.0000000000000005e-80\n",
      "4.279585363127061e-82 x 1.0000000000000005e-81\n",
      "2.7958536312705874e-83 x 1.0000000000000005e-82\n",
      "6.137699911946203e-85 x 1.0000000000000006e-83\n",
      "2.4360128791428201e-85 x 1.0000000000000006e-84\n",
      "4.885594978491962e-86 x 1.0000000000000005e-85\n",
      "4.605253067608012e-87 x 1.0000000000000006e-86\n",
      "7.602917689329063e-88 x 1.0000000000000006e-87\n",
      "1.858148077226874e-90 x 1.0000000000000006e-88\n",
      "9.675016312356162e-90 x 1.0000000000000006e-89\n",
      "7.705130177141825e-91 x 1.0000000000000006e-90\n",
      "4.5692229947148175e-92 x 1.0000000000000007e-91\n",
      "7.081157161107186e-93 x 1.0000000000000007e-92\n",
      "4.6200746701352987e-94 x 1.0000000000000008e-93\n",
      "6.200746701352957e-95 x 1.0000000000000008e-94\n",
      "9.882003220655169e-96 x 1.0000000000000008e-95\n",
      "1.2511966063078586e-97 x 1.0000000000000007e-96\n",
      "9.106957346894663e-98 x 1.0000000000000007e-97\n",
      "8.899761417228806e-100 x 1.0000000000000008e-98\n",
      "2.5155607454782966e-100 x 1.0000000000000008e-99\n",
      "2.0428758499961997e-101 x 1.0000000000000008e-100\n",
      "4.725267009857062e-102 x 1.0000000000000008e-101\n",
      "2.6318088708446346e-103 x 1.000000000000001e-102\n",
      "9.405729306850761e-104 x 1.000000000000001e-103\n",
      "3.3562497155222284e-105 x 1.000000000000001e-104\n",
      "3.1177147211842346e-106 x 1.000000000000001e-105\n",
      "2.1053286801965037e-107 x 1.0000000000000009e-106\n",
      "1.0532868019650185e-108 x 1.0000000000000009e-107\n",
      "9.865294013133057e-109 x 1.000000000000001e-108\n",
      "2.138917687733923e-111 x 1.0000000000000009e-109\n",
      "2.138917687733923e-111 x 1.000000000000001e-110\n",
      "4.2091737949010065e-112 x 1.000000000000001e-111\n",
      "4.945300152789625e-113 x 1.000000000000001e-112\n",
      "9.453001527896211e-114 x 1.000000000000001e-113\n",
      "1.1707673471030963e-115 x 1.000000000000001e-114\n",
      "1.7076734710309538e-116 x 1.000000000000001e-115\n",
      "2.1076309296877063e-117 x 1.000000000000001e-116\n",
      "9.239191880391925e-118 x 1.0000000000000009e-117\n",
      "1.8598129785604467e-119 x 1.0000000000000009e-118\n",
      "6.985210164872869e-120 x 1.0000000000000008e-119\n",
      "9.85210164872864e-121 x 1.0000000000000008e-120\n",
      "8.521016487286324e-122 x 1.0000000000000008e-121\n",
      "8.647758781145242e-124 x 1.0000000000000009e-122\n",
      "5.705478849579812e-125 x 1.0000000000000009e-123\n",
      "3.2128020205726827e-125 x 1.000000000000001e-124\n",
      "9.13935006523997e-126 x 1.0000000000000009e-125\n",
      "1.3935006523996222e-127 x 1.000000000000001e-126\n",
      "8.549920616649154e-128 x 1.0000000000000008e-127\n",
      "4.58993239594016e-129 x 1.0000000000000008e-128\n",
      "4.986415216331598e-130 x 1.0000000000000009e-129\n",
      "9.864152163315942e-131 x 1.0000000000000009e-130\n",
      "2.9037084086292765e-132 x 1.0000000000000009e-131\n",
      "5.81763741215182e-134 x 1.000000000000001e-132\n",
      "3.4847878230777636e-134 x 1.0000000000000008e-133\n",
      "8.65535894284634e-135 x 1.0000000000000009e-134\n",
      "1.3524576637524475e-136 x 1.000000000000001e-135\n",
      "3.5245766375244656e-137 x 1.000000000000001e-136\n",
      "2.6518832605195866e-138 x 1.0000000000000009e-137\n",
      "9.109777147938763e-140 x 1.000000000000001e-138\n",
      "9.109777147938763e-140 x 1.000000000000001e-139\n",
      "8.358786488267251e-141 x 1.0000000000000009e-140\n",
      "3.587864882672441e-142 x 1.0000000000000009e-141\n",
      "2.3200841698508015e-143 x 1.000000000000001e-142\n",
      "9.482035730539685e-144 x 1.000000000000001e-143\n",
      "6.611124530219004e-145 x 1.000000000000001e-144\n",
      "2.3632365806099503e-148 x 1.000000000000001e-145\n",
      "6.338580400075633e-147 x 1.000000000000001e-146\n",
      "7.925111241053463e-148 x 1.0000000000000011e-147\n",
      "1.8819020483507419e-149 x 1.0000000000000012e-148\n",
      "7.703544124292192e-150 x 1.000000000000001e-149\n",
      "3.867401679509268e-151 x 1.0000000000000011e-150\n",
      "4.418553510748433e-152 x 1.0000000000000011e-151\n",
      "4.1855351074842863e-153 x 1.0000000000000011e-152\n",
      "1.9410616469736047e-155 x 1.0000000000000011e-153\n",
      "3.116810846310583e-155 x 1.0000000000000011e-154\n",
      "4.705314979987662e-156 x 1.000000000000001e-155\n",
      "2.30861408510368e-157 x 1.0000000000000011e-156\n",
      "3.0861408510367796e-158 x 1.000000000000001e-157\n",
      "8.61408510367764e-160 x 1.000000000000001e-158\n",
      "9.612834189497517e-160 x 1.0000000000000011e-159\n",
      "2.100119152648229e-161 x 1.0000000000000011e-160\n",
      "8.066153103385072e-162 x 1.000000000000001e-161\n",
      "7.953964472892212e-163 x 1.0000000000000011e-162\n",
      "6.0583437685497904e-164 x 1.000000000000001e-163\n",
      "9.784221652571792e-165 x 1.000000000000001e-164\n",
      "9.722136861222632e-167 x 1.000000000000001e-165\n",
      "1.1979582691563e-167 x 1.000000000000001e-166\n",
      "1.9795826915629903e-168 x 1.000000000000001e-167\n",
      "4.393000794893223e-169 x 1.000000000000001e-168\n",
      "1.0801625177451373e-170 x 1.000000000000001e-169\n",
      "2.398544879372712e-171 x 1.000000000000001e-170\n",
      "7.847191721795004e-175 x 1.0000000000000011e-171\n",
      "9.12970898236392e-173 x 1.0000000000000012e-172\n",
      "9.462846318457244e-174 x 1.0000000000000011e-173\n",
      "4.628463184572342e-175 x 1.0000000000000011e-174\n",
      "6.2846318457233765e-176 x 1.0000000000000011e-175\n",
      "4.513411274992419e-177 x 1.000000000000001e-176\n",
      "5.134112749924149e-178 x 1.000000000000001e-177\n",
      "1.3411274992414344e-179 x 1.000000000000001e-178\n",
      "3.4112749924143333e-180 x 1.000000000000001e-179\n",
      "2.751656565678163e-181 x 1.000000000000001e-180\n",
      "5.540032393255667e-182 x 1.0000000000000011e-181\n",
      "6.66402253594403e-183 x 1.000000000000001e-182\n",
      "6.640225359440236e-184 x 1.000000000000001e-183\n",
      "1.7436828551734458e-185 x 1.0000000000000011e-184\n",
      "4.12193799685252e-186 x 1.0000000000000011e-185\n",
      "1.2193799685251555e-187 x 1.0000000000000011e-186\n",
      "6.23680994763153e-188 x 1.0000000000000012e-187\n",
      "3.441814374468686e-189 x 1.0000000000000012e-188\n",
      "9.014456892626578e-190 x 1.0000000000000013e-189\n",
      "1.4456892626566328e-192 x 1.0000000000000013e-190\n",
      "1.4456892626566328e-192 x 1.0000000000000013e-191\n",
      "4.4568926265663155e-193 x 1.0000000000000013e-192\n",
      "4.5689262656631043e-194 x 1.0000000000000013e-193\n",
      "8.145921838399054e-195 x 1.0000000000000012e-194\n",
      "1.4592183839904412e-196 x 1.0000000000000012e-195\n",
      "4.5921838399043995e-197 x 1.0000000000000012e-196\n",
      "4.610032036401351e-198 x 1.0000000000000012e-197\n",
      "3.097938004477535e-199 x 1.0000000000000012e-198\n",
      "4.6521856422497446e-200 x 1.0000000000000013e-199\n",
      "9.324218307642053e-201 x 1.0000000000000013e-200\n",
      "3.156157427092987e-202 x 1.0000000000000012e-201\n",
      "2.4272474147363528e-203 x 1.0000000000000012e-202\n",
      "4.272474147363505e-204 x 1.0000000000000012e-203\n",
      "5.810292210491273e-205 x 1.0000000000000012e-204\n",
      "9.715708276798367e-206 x 1.0000000000000013e-205\n",
      "3.92340677927501e-207 x 1.0000000000000013e-206\n",
      "6.466626563500435e-208 x 1.0000000000000013e-207\n",
      "7.165685864341837e-210 x 1.0000000000000014e-208\n",
      "7.165685864341837e-210 x 1.0000000000000014e-209\n",
      "1.6568586434182743e-211 x 1.0000000000000014e-210\n",
      "8.611862095131598e-212 x 1.0000000000000014e-211\n",
      "1.4593086568605639e-213 x 1.0000000000000014e-212\n",
      "6.9862227983516496e-214 x 1.0000000000000014e-213\n",
      "3.5277094965075804e-215 x 1.0000000000000014e-214\n",
      "5.3103432509965393e-216 x 1.0000000000000013e-215\n",
      "3.1034325099653268e-217 x 1.0000000000000013e-216\n",
      "9.299936138289772e-218 x 1.0000000000000013e-217\n",
      "2.999361382897607e-219 x 1.0000000000000013e-218\n",
      "9.993613828976047e-220 x 1.0000000000000013e-219\n",
      "9.865488478805275e-221 x 1.0000000000000014e-220\n",
      "8.654884788052626e-222 x 1.0000000000000014e-221\n",
      "2.432100799537068e-223 x 1.0000000000000014e-222\n",
      "8.823328646299074e-224 x 1.0000000000000015e-223\n",
      "8.646563990172887e-225 x 1.0000000000000015e-224\n",
      "6.465639901728752e-226 x 1.0000000000000015e-225\n",
      "1.2461695951489004e-227 x 1.0000000000000014e-226\n",
      "9.981003395239118e-228 x 1.0000000000000015e-227\n",
      "1.6356602374185001e-229 x 1.0000000000000015e-228\n",
      "9.358916226121367e-230 x 1.0000000000000015e-229\n",
      "3.589162261213535e-231 x 1.0000000000000015e-230\n",
      "8.25578029365321e-232 x 1.0000000000000016e-231\n",
      "5.286212764386299e-233 x 1.0000000000000016e-232\n",
      "2.862127643862904e-234 x 1.0000000000000016e-233\n",
      "8.621276438629008e-235 x 1.0000000000000016e-234\n",
      "9.742836502945316e-236 x 1.0000000000000017e-235\n",
      "3.5548699469078595e-237 x 1.0000000000000018e-236\n",
      "3.329061286114638e-238 x 1.0000000000000018e-237\n",
      "1.3966744194238584e-239 x 1.0000000000000017e-238\n",
      "8.953847398981847e-240 x 1.0000000000000018e-239\n",
      "6.385960099485664e-241 x 1.0000000000000018e-240\n",
      "5.1146181191819156e-242 x 1.0000000000000018e-241\n",
      "9.889813320891553e-243 x 1.0000000000000018e-242\n",
      "7.221561451376289e-244 x 1.0000000000000018e-243\n",
      "8.806493299253323e-245 x 1.0000000000000019e-244\n",
      "2.095782861185386e-246 x 1.000000000000002e-245\n",
      "7.512643350065228e-247 x 1.000000000000002e-246\n",
      "7.88021889100591e-248 x 1.000000000000002e-247\n",
      "7.985529177364911e-249 x 1.000000000000002e-248\n",
      "7.933122495453645e-250 x 1.0000000000000019e-249\n",
      "9.331224954536318e-251 x 1.0000000000000019e-250\n",
      "7.239739897541234e-252 x 1.000000000000002e-251\n",
      "6.101907245056392e-253 x 1.000000000000002e-252\n",
      "9.53520288043916e-254 x 1.000000000000002e-253\n",
      "5.744373336636147e-256 x 1.000000000000002e-254\n",
      "1.5601666894704558e-256 x 1.000000000000002e-255\n",
      "5.1752490083520125e-257 x 1.000000000000002e-256\n",
      "3.4977645838766735e-258 x 1.000000000000002e-257\n",
      "2.6017736961311744e-260 x 1.000000000000002e-258\n",
      "7.494368566933183e-260 x 1.0000000000000021e-259\n",
      "3.7747706035947403e-261 x 1.0000000000000021e-260\n",
      "7.747706035947339e-262 x 1.0000000000000021e-261\n",
      "7.47706035947324e-263 x 1.0000000000000021e-262\n",
      "4.7706035947322575e-264 x 1.0000000000000021e-263\n",
      "7.471115089306421e-265 x 1.0000000000000022e-264\n",
      "6.1595200274549494e-266 x 1.0000000000000022e-265\n",
      "3.523136504521134e-269 x 1.0000000000000022e-266\n",
      "9.896489992669951e-268 x 1.0000000000000021e-267\n",
      "9.911340685462481e-269 x 1.0000000000000021e-268\n",
      "9.380453003731581e-270 x 1.0000000000000021e-269\n",
      "3.80453003731562e-271 x 1.0000000000000021e-270\n",
      "2.3409978988550234e-272 x 1.0000000000000022e-271\n",
      "1.466723422075405e-276 x 1.0000000000000022e-272\n",
      "8.587577289469846e-274 x 1.0000000000000021e-273\n",
      "5.875772894698292e-275 x 1.0000000000000021e-274\n",
      "3.713756073106073e-276 x 1.0000000000000022e-275\n",
      "3.836840544721507e-277 x 1.000000000000002e-276\n",
      "8.36840544721501e-278 x 1.0000000000000021e-277\n",
      "3.9202534774053e-279 x 1.0000000000000021e-278\n",
      "4.2148138885505006e-280 x 1.0000000000000022e-279\n",
      "1.5744248628166368e-282 x 1.0000000000000022e-280\n",
      "1.5744248628166368e-282 x 1.0000000000000022e-281\n",
      "1.4933458651528154e-283 x 1.0000000000000021e-282\n",
      "9.615847490114456e-284 x 1.0000000000000021e-283\n",
      "3.1512940503360008e-285 x 1.0000000000000021e-284\n",
      "1.5129405033599442e-286 x 1.0000000000000021e-285\n",
      "9.037986619748623e-287 x 1.0000000000000022e-286\n",
      "8.103415946862357e-288 x 1.0000000000000022e-287\n",
      "3.706295905531507e-289 x 1.0000000000000022e-288\n",
      "7.605235095445705e-290 x 1.0000000000000023e-289\n",
      "6.525344253374741e-291 x 1.0000000000000023e-290\n",
      "6.410716321343376e-292 x 1.0000000000000023e-291\n",
      "4.1071632134336226e-293 x 1.0000000000000023e-292\n",
      "1.0716321343361345e-294 x 1.0000000000000023e-293\n",
      "7.163213433613218e-296 x 1.0000000000000023e-294\n",
      "2.618259578738384e-296 x 1.0000000000000022e-295\n",
      "4.96875381474775e-297 x 1.0000000000000022e-296\n",
      "7.858141703412302e-298 x 1.0000000000000022e-297\n",
      "8.581417034122864e-299 x 1.0000000000000022e-298\n",
      "5.814170341228463e-300 x 1.0000000000000022e-299\n",
      "4.54428381922936e-301 x 1.0000000000000022e-300\n",
      "7.434821672299912e-302 x 1.0000000000000021e-301\n",
      "2.334796310602553e-303 x 1.0000000000000022e-302\n",
      "2.5117055832381657e-304 x 1.0000000000000022e-303\n",
      "5.117055832381613e-305 x 1.0000000000000022e-304\n",
      "5.723715077335715e-306 x 1.0000000000000021e-305\n",
      "5.5675927240090876e-307 x 1.0000000000000021e-306\n",
      "5.675927240090772e-308 x 1.000000000000002e-307\n",
      "3.98604312542042e-309 x 1.000000000000002e-308\n",
      "9.86043125420415e-310 x 1e-309\n",
      "2.019997915173e-312 x 1e-310\n",
      "2.63762079037e-312 x 1e-311\n",
      "8.00710511364e-313 x 1e-312\n",
      "7.930991166e-314 x 1e-313\n",
      "4.935785935e-315 x 1e-314\n",
      "1.1508312e-316 x 1e-315\n",
      "5.261776e-317 x 1e-316\n",
      "8.87399e-318 x 9.999997e-318\n",
      "8.2075e-319 x 1e-318\n",
      "7.257e-320 x 1e-319\n",
      "2.57e-321 x 1e-320\n",
      "6.5e-322 x 1e-321\n",
      "4e-323 x 1e-322\n",
      "0.0 x 1e-323\n"
     ]
    }
   ],
   "source": [
    "nbocu = 0\n",
    "\n",
    "for i in range(999):\n",
    "    if i - 100 <= 100 and i - 100 > 0:\n",
    "            i -= 100\n",
    "            nbocu = nbocu + 1\n",
    "    i = i - i%100 * 100       \n",
    "    if i - 10 <= 10 and i - 10 > 0:\n",
    "            i -= 10\n",
    "            nbocu = nbocu + 1        \n",
    "    i = i - i%10 * 10      \n",
    "    if i - 1 == 0:\n",
    "        nbocu = nbocu + 1\n",
    "print(nbocu)\n",
    "        \n",
    "n = 52\n",
    "p = 10000\n",
    "while p>0:\n",
    "    if n - p > 0:\n",
    "        print(repr(n%p) + \" x \" + repr(p))\n",
    "        n -= p\n",
    "    p = p/10\n",
    "        \n",
    "        \n",
    "\n",
    "\n",
    "    "
   ]
  },
  {
   "cell_type": "code",
   "execution_count": null,
   "metadata": {},
   "outputs": [],
   "source": [
    "cote = 1\n",
    "pi = 1\n",
    "while( int(pi*10000/10000) > 1):\n",
    "    \n",
    "    \n",
    "\n",
    "\n",
    "\n",
    "\n"
   ]
  }
 ],
 "metadata": {
  "colab": {
   "authorship_tag": "ABX9TyOagyV2fZ1Z06C85vQXiRci",
   "include_colab_link": true,
   "name": "itii.ipynb",
   "provenance": [],
   "toc_visible": true
  },
  "kernelspec": {
   "display_name": "Python 3",
   "language": "python",
   "name": "python3"
  },
  "language_info": {
   "codemirror_mode": {
    "name": "ipython",
    "version": 3
   },
   "file_extension": ".py",
   "mimetype": "text/x-python",
   "name": "python",
   "nbconvert_exporter": "python",
   "pygments_lexer": "ipython3",
   "version": "3.7.6"
  }
 },
 "nbformat": 4,
 "nbformat_minor": 1
}
